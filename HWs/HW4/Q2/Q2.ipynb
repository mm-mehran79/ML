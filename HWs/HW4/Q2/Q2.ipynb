{
  "nbformat": 4,
  "nbformat_minor": 0,
  "metadata": {
    "colab": {
      "provenance": []
    },
    "kernelspec": {
      "name": "python3",
      "display_name": "Python 3"
    },
    "language_info": {
      "name": "python"
    }
  },
  "cells": [
    {
      "cell_type": "markdown",
      "source": [
        "<div dir=rtl>\n",
        "تمرین سری چهارم درس یادگیری ماشین\n",
        "\n",
        "\n",
        "گروه دکتر امینی"
      ],
      "metadata": {
        "id": "EKAfvcZUKVnZ"
      }
    },
    {
      "cell_type": "markdown",
      "source": [
        "<div dir=rtl>\n",
        "\n",
        "نام و نام خانوداگی:\n",
        "\n",
        "شماره دانشجویی:"
      ],
      "metadata": {
        "id": "tXcOZW8oKfi9"
      }
    },
    {
      "cell_type": "markdown",
      "source": [
        "<div dir=rtl>\n",
        "\n",
        "# یادگیری بدون سرپرست"
      ],
      "metadata": {
        "id": "q7g0CRUhFA1g"
      }
    },
    {
      "cell_type": "markdown",
      "source": [
        "<div dir=rtl>\n",
        "\n",
        "## پیش پردازش"
      ],
      "metadata": {
        "id": "dDw2wXC8FwgX"
      }
    },
    {
      "cell_type": "markdown",
      "source": [
        "<div dir=rtl>\n",
        "\n",
        "دیتاست را از طریق سلولی که در فایل نوتبوک قرار دارد لود کنید و تعدادی از آنها را نمایش دهید."
      ],
      "metadata": {
        "id": "XgbNt4TyF4FR"
      }
    },
    {
      "cell_type": "code",
      "source": [
        "from sklearn.datasets import fetch_20newsgroups\n",
        "# ToDo"
      ],
      "metadata": {
        "id": "-1BiVuISFzC1"
      },
      "execution_count": null,
      "outputs": []
    },
    {
      "cell_type": "markdown",
      "source": [
        "<div dir=rtl>\n",
        "\n",
        "کلیه متون را پیش پردازش کنید.\n",
        "برای اینکار از هر پیش پردازشی که بنظرتان مفید می آید استفاده کنید.\n",
        "برای گرفتن نمره کامل حداقلی از پیش پردازش ها را باید انجام دهید."
      ],
      "metadata": {
        "id": "Y9Jz9aMWGKBc"
      }
    },
    {
      "cell_type": "code",
      "source": [
        "def pre_process_text(data):\n",
        "    # ToDo\n",
        "    pass"
      ],
      "metadata": {
        "id": "Ydjpny6uGPqF"
      },
      "execution_count": null,
      "outputs": []
    },
    {
      "cell_type": "markdown",
      "source": [
        "<div dir=rtl>\n",
        "\n",
        "در مورد تکنیک تبدیل متون به بردار \n",
        "tf-idf\n",
        "تحقیق کنید و مختصری در رابطه با آن بنویسید."
      ],
      "metadata": {
        "id": "LRWm5bgxKAPN"
      }
    },
    {
      "cell_type": "markdown",
      "source": [
        "todo"
      ],
      "metadata": {
        "id": "wxFYSR5sKH9u"
      }
    },
    {
      "cell_type": "markdown",
      "source": [
        "<div dir=rtl>\n",
        "\n",
        "به کمک\n",
        "TfidfVectorizer\n",
        "متون را به بردار تبدیل کنید."
      ],
      "metadata": {
        "id": "qQKfQ9NNGeAw"
      }
    },
    {
      "cell_type": "code",
      "source": [
        "# ToDo"
      ],
      "metadata": {
        "id": "W5nTb7OAGhz-"
      },
      "execution_count": null,
      "outputs": []
    },
    {
      "cell_type": "markdown",
      "source": [
        "<div dir=rtl>\n",
        "\n",
        "## آموزش"
      ],
      "metadata": {
        "id": "fByPVTVpGzUq"
      }
    },
    {
      "cell_type": "markdown",
      "source": [
        "<div dir=rtl>\n",
        "\n",
        "به کمک الگوریتم \n",
        "kmeans\n",
        "،با تعداد کلاستر مختلف از 2 تا 5 دادگان را طبقه بندی کنید و نمودار جمع محذور فواصل اعضای دسته‌ها از مرکزشان را برحسب  تعداد دسته‌ها رسم کنید."
      ],
      "metadata": {
        "id": "am-MeQULGpu0"
      }
    },
    {
      "cell_type": "code",
      "source": [
        "# ToDo"
      ],
      "metadata": {
        "id": "4SBD7lgzGwFb"
      },
      "execution_count": null,
      "outputs": []
    },
    {
      "cell_type": "markdown",
      "source": [
        "<div dir=rtl>\n",
        "\n",
        "به کمک \n",
        "pca\n",
        "ابعاد داده‌ها را کاهش دهید و با رسم آنها سعی کنید تعداد کلاستر بهینه را بیابید. سعی کنید که حروف برجسته هر دسته را استخراج کنید. به کمک نمایش دوبعدی دادگان و همچنین کلیدواژه‌های هر دسته در تعداد دسته‌های  بهینه، آنها را نامگذاری کنید (مساله جواب درست دارد :))."
      ],
      "metadata": {
        "id": "q76yAPbtGxWY"
      }
    },
    {
      "cell_type": "code",
      "source": [
        "# ToDo"
      ],
      "metadata": {
        "id": "wMqb7w3dHA3w"
      },
      "execution_count": null,
      "outputs": []
    }
  ]
}