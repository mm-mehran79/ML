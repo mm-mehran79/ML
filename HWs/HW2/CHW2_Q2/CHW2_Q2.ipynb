{
 "cells": [
  {
   "cell_type": "markdown",
   "metadata": {},
   "source": [
    "# Machine Learning Computer Homework 2\n",
    "## 2: Classification Models\n",
    "In this question, you will get familiar with classification models such as Linear Regression and Naive Bayes and train them on the given data-sets.       \n",
    "sklearn is a powerful library for training machine learning models. In this homework we shall use this library to build/train machine learning models.   \n",
    "\n",
    "You are only required to write code in the sections marked with `# TODO:`   \n",
    "Feel free to contact me via telegram if you have any question: @mamin_rami"
   ]
  },
  {
   "cell_type": "code",
   "execution_count": 1,
   "metadata": {},
   "outputs": [],
   "source": [
    "# import the required libraries\n",
    "import numpy as np\n",
    "import pandas as pd\n",
    "from sklearn.linear_model import LogisticRegression\n",
    "from sklearn.naive_bayes import GaussianNB\n",
    "from sklearn.preprocessing import StandardScaler\n",
    "from sklearn.model_selection import train_test_split"
   ]
  },
  {
   "cell_type": "markdown",
   "metadata": {},
   "source": [
    "In this question you will work with a data-set containig data to detect fake banknotes. The data has four columns(features). Each feature is extracted by performing some image processing techniques on the banknotes. You will use machine learning models on the data-set to differentiate between real and fake banknotes.   \n",
    "In the following section, you must read the data using pandas library and do some preprocessing"
   ]
  },
  {
   "cell_type": "code",
   "execution_count": 2,
   "metadata": {},
   "outputs": [],
   "source": [
    "# TODO: read the data_banknote_authentication.csv file using pandas\n",
    "\n",
    "D = pd.read_csv('data_banknote_authentication.csv')"
   ]
  },
  {
   "cell_type": "code",
   "execution_count": 3,
   "metadata": {},
   "outputs": [
    {
     "data": {
      "text/html": [
       "<div>\n",
       "<style scoped>\n",
       "    .dataframe tbody tr th:only-of-type {\n",
       "        vertical-align: middle;\n",
       "    }\n",
       "\n",
       "    .dataframe tbody tr th {\n",
       "        vertical-align: top;\n",
       "    }\n",
       "\n",
       "    .dataframe thead th {\n",
       "        text-align: right;\n",
       "    }\n",
       "</style>\n",
       "<table border=\"1\" class=\"dataframe\">\n",
       "  <thead>\n",
       "    <tr style=\"text-align: right;\">\n",
       "      <th></th>\n",
       "      <th>feature 1</th>\n",
       "      <th>feature 2</th>\n",
       "      <th>feature 3</th>\n",
       "      <th>feature 4</th>\n",
       "      <th>label</th>\n",
       "    </tr>\n",
       "  </thead>\n",
       "  <tbody>\n",
       "    <tr>\n",
       "      <th>0</th>\n",
       "      <td>-1.7104</td>\n",
       "      <td>-4.77800</td>\n",
       "      <td>6.210900</td>\n",
       "      <td>0.39740</td>\n",
       "      <td>1</td>\n",
       "    </tr>\n",
       "    <tr>\n",
       "      <th>1</th>\n",
       "      <td>3.7635</td>\n",
       "      <td>2.78110</td>\n",
       "      <td>0.661190</td>\n",
       "      <td>0.34179</td>\n",
       "      <td>1</td>\n",
       "    </tr>\n",
       "    <tr>\n",
       "      <th>2</th>\n",
       "      <td>5.3915</td>\n",
       "      <td>9.99460</td>\n",
       "      <td>-3.808100</td>\n",
       "      <td>-3.36420</td>\n",
       "      <td>-1</td>\n",
       "    </tr>\n",
       "    <tr>\n",
       "      <th>3</th>\n",
       "      <td>-1.8343</td>\n",
       "      <td>-6.59070</td>\n",
       "      <td>5.642900</td>\n",
       "      <td>0.54998</td>\n",
       "      <td>1</td>\n",
       "    </tr>\n",
       "    <tr>\n",
       "      <th>4</th>\n",
       "      <td>3.5358</td>\n",
       "      <td>6.70860</td>\n",
       "      <td>-0.818570</td>\n",
       "      <td>0.47886</td>\n",
       "      <td>1</td>\n",
       "    </tr>\n",
       "    <tr>\n",
       "      <th>...</th>\n",
       "      <td>...</td>\n",
       "      <td>...</td>\n",
       "      <td>...</td>\n",
       "      <td>...</td>\n",
       "      <td>...</td>\n",
       "    </tr>\n",
       "    <tr>\n",
       "      <th>1371</th>\n",
       "      <td>3.8584</td>\n",
       "      <td>0.78425</td>\n",
       "      <td>1.103300</td>\n",
       "      <td>1.70080</td>\n",
       "      <td>1</td>\n",
       "    </tr>\n",
       "    <tr>\n",
       "      <th>1372</th>\n",
       "      <td>4.6689</td>\n",
       "      <td>1.30980</td>\n",
       "      <td>0.055404</td>\n",
       "      <td>1.90900</td>\n",
       "      <td>1</td>\n",
       "    </tr>\n",
       "    <tr>\n",
       "      <th>1373</th>\n",
       "      <td>-3.6053</td>\n",
       "      <td>-5.97400</td>\n",
       "      <td>10.091600</td>\n",
       "      <td>-0.82846</td>\n",
       "      <td>-1</td>\n",
       "    </tr>\n",
       "    <tr>\n",
       "      <th>1374</th>\n",
       "      <td>2.0421</td>\n",
       "      <td>1.24360</td>\n",
       "      <td>4.217100</td>\n",
       "      <td>0.90429</td>\n",
       "      <td>1</td>\n",
       "    </tr>\n",
       "    <tr>\n",
       "      <th>1375</th>\n",
       "      <td>1.9476</td>\n",
       "      <td>-4.77380</td>\n",
       "      <td>8.527000</td>\n",
       "      <td>-1.86680</td>\n",
       "      <td>-1</td>\n",
       "    </tr>\n",
       "  </tbody>\n",
       "</table>\n",
       "<p>1376 rows × 5 columns</p>\n",
       "</div>"
      ],
      "text/plain": [
       "      feature 1  feature 2  feature 3  feature 4  label\n",
       "0       -1.7104   -4.77800   6.210900    0.39740      1\n",
       "1        3.7635    2.78110   0.661190    0.34179      1\n",
       "2        5.3915    9.99460  -3.808100   -3.36420     -1\n",
       "3       -1.8343   -6.59070   5.642900    0.54998      1\n",
       "4        3.5358    6.70860  -0.818570    0.47886      1\n",
       "...         ...        ...        ...        ...    ...\n",
       "1371     3.8584    0.78425   1.103300    1.70080      1\n",
       "1372     4.6689    1.30980   0.055404    1.90900      1\n",
       "1373    -3.6053   -5.97400  10.091600   -0.82846     -1\n",
       "1374     2.0421    1.24360   4.217100    0.90429      1\n",
       "1375     1.9476   -4.77380   8.527000   -1.86680     -1\n",
       "\n",
       "[1376 rows x 5 columns]"
      ]
     },
     "execution_count": 3,
     "metadata": {},
     "output_type": "execute_result"
    }
   ],
   "source": [
    "D"
   ]
  },
  {
   "cell_type": "markdown",
   "metadata": {},
   "source": [
    "Most of the time, the data we work with is not clean. We need to preprocess it first."
   ]
  },
  {
   "cell_type": "code",
   "execution_count": 4,
   "metadata": {},
   "outputs": [],
   "source": [
    "# TODO: delete all rows containing a NaN value \n",
    "# Hint: use dropna command from pandas library \n",
    "D = D.dropna()\n",
    "# Extract X (the first four columns of data) and y (the last column of data) as numpy arrays\n",
    "X = np.array(D)[:,:-1]\n",
    "Y = np.array(D)[:,-1]\n",
    "# split data between train and test with 70% of data as train data and the rest as test data\n",
    "# Hint: use train_test_split command from sklearn library\n",
    "XTrain, XTest, YTrain, YTest = train_test_split(X, Y, train_size=0.7)"
   ]
  },
  {
   "cell_type": "markdown",
   "metadata": {},
   "source": [
    "As you know, a machine learning model may have parameters. The model learns these parameters by optimizing some objective function. Hence, some optimization algorithms are used to learn these parameters.       \n",
    "For these algorithms to perform well, it is better to normalize our features to have zero mean and unit variance.      \n",
    "In this section you will standardize the data to zero mean and unit variance.      \n",
    "Use `StandardScaler` class from `sklearn` library for this purpose.   "
   ]
  },
  {
   "cell_type": "code",
   "execution_count": 5,
   "metadata": {},
   "outputs": [],
   "source": [
    "# TODO: standardize both train and test data-set\n",
    "# Attention: you have to standardize based on training data-set( the .fit command should only be called upon trainig set)\n",
    "standardScaler = StandardScaler()\n",
    "standardScaler.fit(XTrain)\n",
    "normalizedXTrain = standardScaler.transform(XTrain)\n",
    "normalizedXTest = standardScaler.transform(XTest)"
   ]
  },
  {
   "cell_type": "markdown",
   "metadata": {},
   "source": [
    "Here you must write a function to calculate accuracy, precision, recall and F1 score.    "
   ]
  },
  {
   "cell_type": "code",
   "execution_count": 6,
   "metadata": {},
   "outputs": [],
   "source": [
    "def performance_score(y_true:np.ndarray, y_pred:np.ndarray) -> list:\n",
    "    # TODO\n",
    "    TP = np.sum(y_pred[y_true == 1] == 1)\n",
    "    TN = np.sum(y_pred[y_true == -1] == -1)\n",
    "    FP = np.sum(y_pred[y_true == -1] == 1)\n",
    "    FN = np.sum(y_pred[y_true == 1] == -1)\n",
    "    N = np.size(y_pred)\n",
    "    accuracy = (TP + TN) / N\n",
    "    precision = TP / (TP + FP)\n",
    "    recall = TP / (TP + FN)\n",
    "    f1 = TP / (TP + 0.5*(FP + FN))\n",
    "    return accuracy, precision, recall, f1"
   ]
  },
  {
   "cell_type": "markdown",
   "metadata": {},
   "source": [
    "In this section we will get into the training phase"
   ]
  },
  {
   "cell_type": "code",
   "execution_count": 7,
   "metadata": {},
   "outputs": [
    {
     "name": "stdout",
     "output_type": "stream",
     "text": [
      "LogisticRegression performance score: \n",
      "    accuracy =  0.9951456310679612 \n",
      "    presision =  0.9906103286384976 \n",
      "    recall =  1.0 \n",
      "    f1 =  0.9952830188679245\n",
      "Gaussian Naive Bayes performance score: \n",
      "    accuracy =  0.9466019417475728 \n",
      "    presision =  0.9354838709677419 \n",
      "    recall =  0.9620853080568721 \n",
      "    f1 =  0.9485981308411215\n"
     ]
    }
   ],
   "source": [
    "# TODO: train a Logistic Regression model on the trainig data using sklearn library\n",
    "# Warning: Remember to use the scaled data\n",
    "logisticRegression = LogisticRegression()\n",
    "logisticRegression.fit(normalizedXTrain, YTrain)\n",
    "\n",
    "# TODO: report the performance of the model on the test set using the performance_score function\n",
    "# Warning: Remember to use the scaled data\n",
    "yPredict_LR = logisticRegression.predict(normalizedXTest)\n",
    "accuracyLR, precisionLR, recallLR, f1LR = performance_score(y_true= YTest, y_pred= yPredict_LR)\n",
    "\n",
    "print(\"LogisticRegression performance score: \\n    accuracy = \", accuracyLR, \"\\n    presision = \", precisionLR,\n",
    "    \"\\n    recall = \", recallLR, \"\\n    f1 = \", f1LR)\n",
    "\n",
    "# TODO: train a Gaussian Naive Bayes model on the trainig data using sklearn library\n",
    "# Warning: Remember to use the scaled data\n",
    "gNaiveBayes = GaussianNB()\n",
    "gNaiveBayes.fit(normalizedXTrain, YTrain)\n",
    "\n",
    "# TODO: report the performance of the model on the test set using the performance_score function\n",
    "# Warning: Remember to use the scaled data\n",
    "yPredict_NB = gNaiveBayes.predict(normalizedXTest)\n",
    "accuracyNB, precisionNB, recallNB, f1NB = performance_score(y_true= YTest, y_pred= yPredict_NB)\n",
    "\n",
    "print(\"Gaussian Naive Bayes performance score: \\n    accuracy = \", accuracyNB, \"\\n    presision = \", precisionNB,\n",
    "    \"\\n    recall = \", recallNB, \"\\n    f1 = \", f1NB)"
   ]
  }
 ],
 "metadata": {
  "kernelspec": {
   "display_name": "Python 3",
   "language": "python",
   "name": "python3"
  },
  "language_info": {
   "codemirror_mode": {
    "name": "ipython",
    "version": 3
   },
   "file_extension": ".py",
   "mimetype": "text/x-python",
   "name": "python",
   "nbconvert_exporter": "python",
   "pygments_lexer": "ipython3",
   "version": "3.10.5"
  },
  "vscode": {
   "interpreter": {
    "hash": "4a700059dc7a096dd4f4890f5dcc2f87ca5e905804ecea300fbcc0e677f37371"
   }
  }
 },
 "nbformat": 4,
 "nbformat_minor": 4
}
