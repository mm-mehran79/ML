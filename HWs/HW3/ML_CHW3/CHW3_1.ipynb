{
 "cells": [
  {
   "attachments": {},
   "cell_type": "markdown",
   "id": "77be69fd",
   "metadata": {},
   "source": [
    "# Machine Learning Computer Homework 3\n",
    "# Mehran Mazaheri 98102346\n",
    "## Handwritten image classification\n",
    "## Part1: SVM (100)\n",
    "In machine learning, support vector machines (SVMs) are supervised learning models with associated learning algorithms that analyze data for classification and regression analysis, Developed at AT&T Bell Laboratories.\n",
    "\n",
    "In this part, you will implement an SVM to classify handwritten digits! \\\n",
    "The task is to predict number in a picture, which is between 0 and 9. then we use a Neural network to do the same job and compare their results. \\   \n",
    "\n",
    "You are only required to write code in the sections marked with `# TODO:` \n",
    "Feel free to contact me via telegram if you have any question: @mamin_rami, @Amin_pourghani"
   ]
  },
  {
   "cell_type": "code",
   "execution_count": 1,
   "id": "99d93b31",
   "metadata": {},
   "outputs": [],
   "source": [
    "# Import datasets, classifiers and performance metrics\n",
    "import matplotlib.pyplot as plt\n",
    "from sklearn import datasets, svm, metrics\n",
    "from sklearn.model_selection import train_test_split"
   ]
  },
  {
   "cell_type": "markdown",
   "id": "f862d272",
   "metadata": {},
   "source": [
    "## Q1.Plotting random images (10)\n",
    "Plot few images from dataset to get intuition about dataset. \n",
    "Remember to plot the pictures' labels too"
   ]
  },
  {
   "cell_type": "code",
   "execution_count": 31,
   "id": "750f7b30",
   "metadata": {},
   "outputs": [
    {
     "data": {
      "image/png": "[encoded data removed]",
      "text/plain": [
       "<Figure size 1296x864 with 8 Axes>"
      ]
     },
     "metadata": {
      "needs_background": "light"
     },
     "output_type": "display_data"
    }
   ],
   "source": [
    "#Loading digits dataset from sklearn preloaded datasets\n",
    "digits = datasets.load_digits()\n",
    "\n",
    "#TODO\n",
    "_, axes = plt.subplots(nrows=1, ncols=8, figsize=(18, 12))\n",
    "for ax, image, label in zip(axes, digits.images, digits.target):\n",
    "    ax.set_axis_off()\n",
    "    ax.imshow(image, cmap=plt.cm.gray_r, interpolation=\"nearest\")\n",
    "    ax.set_title(\"Training: %i\" % label)"
   ]
  },
  {
   "cell_type": "code",
   "execution_count": 32,
   "id": "5b4affd2",
   "metadata": {},
   "outputs": [],
   "source": [
    "# Flatten the images\n",
    "#TODO\n",
    "data = digits.images.reshape(len(digits.images), -1)"
   ]
  },
  {
   "cell_type": "markdown",
   "id": "17b73954",
   "metadata": {},
   "source": [
    "## Q2.Splitting data (10)\n",
    "split data into 60% train and 40% test subsets."
   ]
  },
  {
   "cell_type": "code",
   "execution_count": 34,
   "id": "950c4e44",
   "metadata": {},
   "outputs": [],
   "source": [
    "#TODO\n",
    "[X_train, X_test, y_train, y_test] = train_test_split(data, digits.target, train_size=0.6)"
   ]
  },
  {
   "cell_type": "markdown",
   "id": "f7899873",
   "metadata": {},
   "source": [
    " ## Q3.Creating a classifier: a support vector classifier (60)\n",
    " You can adjust the hyperparameters of the model to get a better result. \\\n",
    " for this part, use linear kernel:"
   ]
  },
  {
   "cell_type": "code",
   "execution_count": 35,
   "id": "4b0aca4a",
   "metadata": {},
   "outputs": [],
   "source": [
    "#TODO\n",
    "clf = svm.SVC(kernel='linear')"
   ]
  },
  {
   "cell_type": "code",
   "execution_count": null,
   "id": "91a11fc2",
   "metadata": {},
   "outputs": [],
   "source": [
    "# Learn the digits on the train subset\n",
    "#TODO\n",
    "clf.fit(X_train, y_train)"
   ]
  },
  {
   "cell_type": "code",
   "execution_count": 39,
   "id": "96343538",
   "metadata": {},
   "outputs": [],
   "source": [
    "# Predict the value of the digit on the test subset\n",
    "#TODO\n",
    "y_pred = clf.predict(X_test)"
   ]
  },
  {
   "cell_type": "code",
   "execution_count": 44,
   "id": "867c11a0",
   "metadata": {},
   "outputs": [
    {
     "data": {
      "image/png": "[encoded data removed]",
      "text/plain": [
       "<Figure size 1296x864 with 5 Axes>"
      ]
     },
     "metadata": {
      "needs_background": "light"
     },
     "output_type": "display_data"
    }
   ],
   "source": [
    "# Plot 5 samples of test set and their corresponding predicted label.\n",
    "#TODO\n",
    "_, axes = plt.subplots(nrows=1, ncols=5, figsize=(18, 12))\n",
    "for ax, image, label in zip(axes, X_test[7:12], y_pred[7:12]):\n",
    "    ax.set_axis_off()\n",
    "    ax.imshow(image.reshape(8,8), cmap=plt.cm.gray_r, interpolation=\"nearest\")\n",
    "    ax.set_title(\"Training: %i\" % label)"
   ]
  },
  {
   "cell_type": "markdown",
   "id": "deae9026",
   "metadata": {},
   "source": [
    "## Q4. Model metrics (20)\n",
    "To see the fitting quality, print thee metrics of the model:"
   ]
  },
  {
   "cell_type": "code",
   "execution_count": 45,
   "id": "e85dd935",
   "metadata": {},
   "outputs": [
    {
     "name": "stdout",
     "output_type": "stream",
     "text": [
      "Classification report for classifier SVC(kernel='linear'):\n",
      "              precision    recall  f1-score   support\n",
      "\n",
      "           0       1.00      1.00      1.00        71\n",
      "           1       0.93      0.99      0.96        93\n",
      "           2       1.00      1.00      1.00        68\n",
      "           3       1.00      0.96      0.98        71\n",
      "           4       0.97      0.99      0.98        73\n",
      "           5       0.99      0.99      0.99        69\n",
      "           6       1.00      0.97      0.99        74\n",
      "           7       1.00      0.99      0.99        75\n",
      "           8       0.95      0.87      0.91        63\n",
      "           9       0.94      1.00      0.97        62\n",
      "\n",
      "    accuracy                           0.98       719\n",
      "   macro avg       0.98      0.98      0.98       719\n",
      "weighted avg       0.98      0.98      0.98       719\n",
      "\n",
      "\n"
     ]
    }
   ],
   "source": [
    "# Use metrics.classification_report() method to get an overview of model's performance\n",
    "# TODO\n",
    "print(\n",
    "    f\"Classification report for classifier {clf}:\\n\"\n",
    "    f\"{metrics.classification_report(y_test, y_pred)}\\n\"\n",
    ")"
   ]
  },
  {
   "cell_type": "code",
   "execution_count": 47,
   "id": "9f36b5a1",
   "metadata": {},
   "outputs": [
    {
     "data": {
      "image/png": "[encoded data removed]",
      "text/plain": [
       "<Figure size 432x288 with 2 Axes>"
      ]
     },
     "metadata": {
      "needs_background": "light"
     },
     "output_type": "display_data"
    },
    {
     "name": "stdout",
     "output_type": "stream",
     "text": [
      "Confusion matrix:\n",
      "[[71  0  0  0  0  0  0  0  0  0]\n",
      " [ 0 92  0  0  0  0  0  0  1  0]\n",
      " [ 0  0 68  0  0  0  0  0  0  0]\n",
      " [ 0  0  0 68  0  0  0  0  2  1]\n",
      " [ 0  1  0  0 72  0  0  0  0  0]\n",
      " [ 0  0  0  0  0 68  0  0  0  1]\n",
      " [ 0  1  0  0  1  0 72  0  0  0]\n",
      " [ 0  0  0  0  0  0  0 74  0  1]\n",
      " [ 0  5  0  0  1  1  0  0 55  1]\n",
      " [ 0  0  0  0  0  0  0  0  0 62]]\n"
     ]
    }
   ],
   "source": [
    "# Plot the confusion matrix of the model using metrics library\n",
    "#TODO\n",
    "disp = metrics.ConfusionMatrixDisplay.from_predictions(y_test, y_pred)\n",
    "disp.figure_.suptitle(\"Confusion Matrix\")\n",
    "plt.show()\n",
    "print(f\"Confusion matrix:\\n{disp.confusion_matrix}\")"
   ]
  },
  {
   "cell_type": "markdown",
   "id": "5663a844",
   "metadata": {},
   "source": [
    "### Repeat the steps you took, but this time use gaussian kernel(rbf kernel)"
   ]
  },
  {
   "attachments": {},
   "cell_type": "markdown",
   "id": "f7899873",
   "metadata": {},
   "source": [
    " #### Creating a classifier: a support vector classifier\n",
    " for this part, use rbf kernel:"
   ]
  },
  {
   "cell_type": "code",
   "execution_count": 48,
   "id": "7560344f",
   "metadata": {},
   "outputs": [
    {
     "data": {
      "image/png": "[encoded data removed]",
      "text/plain": [
       "<Figure size 1296x864 with 5 Axes>"
      ]
     },
     "metadata": {
      "needs_background": "light"
     },
     "output_type": "display_data"
    }
   ],
   "source": [
    "clf = svm.SVC(kernel='rbf')\n",
    "clf.fit(X_train, y_train)\n",
    "y_pred = clf.predict(X_test)\n",
    "_, axes = plt.subplots(nrows=1, ncols=5, figsize=(18, 12))\n",
    "for ax, image, label in zip(axes, X_test[7:12], y_pred[7:12]):\n",
    "    ax.set_axis_off()\n",
    "    ax.imshow(image.reshape(8,8), cmap=plt.cm.gray_r, interpolation=\"nearest\")\n",
    "    ax.set_title(\"Training: %i\" % label)\n"
   ]
  },
  {
   "attachments": {},
   "cell_type": "markdown",
   "id": "deae9026",
   "metadata": {},
   "source": [
    "#### Model metrics "
   ]
  },
  {
   "cell_type": "code",
   "execution_count": 49,
   "id": "e85dd935",
   "metadata": {},
   "outputs": [
    {
     "name": "stdout",
     "output_type": "stream",
     "text": [
      "Classification report for classifier SVC():\n",
      "              precision    recall  f1-score   support\n",
      "\n",
      "           0       1.00      1.00      1.00        71\n",
      "           1       0.97      1.00      0.98        93\n",
      "           2       1.00      1.00      1.00        68\n",
      "           3       1.00      0.99      0.99        71\n",
      "           4       1.00      1.00      1.00        73\n",
      "           5       1.00      0.99      0.99        69\n",
      "           6       1.00      1.00      1.00        74\n",
      "           7       0.99      0.99      0.99        75\n",
      "           8       0.98      0.94      0.96        63\n",
      "           9       0.95      0.98      0.97        62\n",
      "\n",
      "    accuracy                           0.99       719\n",
      "   macro avg       0.99      0.99      0.99       719\n",
      "weighted avg       0.99      0.99      0.99       719\n",
      "\n",
      "\n"
     ]
    }
   ],
   "source": [
    "# Use metrics.classification_report() method to get an overview of model's performance\n",
    "# TODO\n",
    "print(\n",
    "    f\"Classification report for classifier {clf}:\\n\"\n",
    "    f\"{metrics.classification_report(y_test, y_pred)}\\n\"\n",
    ")"
   ]
  },
  {
   "cell_type": "code",
   "execution_count": 50,
   "id": "9f36b5a1",
   "metadata": {},
   "outputs": [
    {
     "data": {
      "image/png": "[encoded data removed]",
      "text/plain": [
       "<Figure size 432x288 with 2 Axes>"
      ]
     },
     "metadata": {
      "needs_background": "light"
     },
     "output_type": "display_data"
    },
    {
     "name": "stdout",
     "output_type": "stream",
     "text": [
      "Confusion matrix:\n",
      "[[71  0  0  0  0  0  0  0  0  0]\n",
      " [ 0 93  0  0  0  0  0  0  0  0]\n",
      " [ 0  0 68  0  0  0  0  0  0  0]\n",
      " [ 0  0  0 70  0  0  0  1  0  0]\n",
      " [ 0  0  0  0 73  0  0  0  0  0]\n",
      " [ 0  0  0  0  0 68  0  0  0  1]\n",
      " [ 0  0  0  0  0  0 74  0  0  0]\n",
      " [ 0  0  0  0  0  0  0 74  0  1]\n",
      " [ 0  3  0  0  0  0  0  0 59  1]\n",
      " [ 0  0  0  0  0  0  0  0  1 61]]\n"
     ]
    }
   ],
   "source": [
    "# Plot the confusion matrix of the model using metrics library\n",
    "#TODO\n",
    "disp = metrics.ConfusionMatrixDisplay.from_predictions(y_test, y_pred)\n",
    "disp.figure_.suptitle(\"Confusion Matrix\")\n",
    "plt.show()\n",
    "print(f\"Confusion matrix:\\n{disp.confusion_matrix}\")"
   ]
  }
 ],
 "metadata": {
  "kernelspec": {
   "display_name": "Python 3",
   "language": "python",
   "name": "python3"
  },
  "language_info": {
   "codemirror_mode": {
    "name": "ipython",
    "version": 3
   },
   "file_extension": ".py",
   "mimetype": "text/x-python",
   "name": "python",
   "nbconvert_exporter": "python",
   "pygments_lexer": "ipython3",
   "version": "3.10.5"
  },
  "vscode": {
   "interpreter": {
    "hash": "4a700059dc7a096dd4f4890f5dcc2f87ca5e905804ecea300fbcc0e677f37371"
   }
  }
 },
 "nbformat": 4,
 "nbformat_minor": 5
}
