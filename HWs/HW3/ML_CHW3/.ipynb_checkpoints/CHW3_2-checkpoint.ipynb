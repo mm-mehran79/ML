{
 "cells": [
  {
   "cell_type": "markdown",
   "id": "1f86b0b9",
   "metadata": {},
   "source": [
    "# Machine Learning Computer Homework 3\n",
    "## Handwritten image classification\n",
    "## Part 2: Neural Network\n",
    "Neural networks make basis for very complex AI models, which we use nowadays, like speech recognizers on smartphones or Google’s latest automatic translator.\\\n",
    "Deep learning is in fact a new name for an approach to artificial intelligence called neural networks, which have been going in and out of fashion for more than 70 years. Neural networks were first proposed in 1944 by Warren McCullough and Walter Pitts, two University of Chicago researchers who moved to MIT in 1952 as founding members of what’s sometimes called the first cognitive science department. \\\n",
    "In this part, we want to design a neural network to classify handwritten images (same job as SVM in part1)\n"
   ]
  },
  {
   "cell_type": "markdown",
   "id": "411f1721",
   "metadata": {},
   "source": [
    "## Using simple dataset from sklearn (40 pts)\n",
    "### Q1. Split train and test (5)\n",
    "Split 20 percent of data as test set, and 80 percent for train set. \\\n",
    "Why we don't use whole dataset as training set?"
   ]
  },
  {
   "cell_type": "code",
   "execution_count": null,
   "id": "c78de5cd",
   "metadata": {},
   "outputs": [],
   "source": [
    "#Loading digits dataset from sklearn preloaded datasets\n",
    "digits = datasets.load_digits()\n",
    "\n",
    "#TODO"
   ]
  },
  {
   "cell_type": "markdown",
   "id": "f53e27d8",
   "metadata": {},
   "source": [
    "### Q2 . Design Neural network (30)\n",
    "try to design a neural network with not more than 2 hidden layers. you should reach higher accurecies with simpler networks. \\\n",
    "Try different learning rates, activation functions, hidden layers and other parameters to reach at least 90% accuracy (you will calculate accuracy in the next part). \\\n",
    "layers:\n",
    "- an input layer, with 64 nodes, one node per pixel in the input images. Nodes are neurons that actually do nothing. They -  just take their input value and send it to the neurons of the next layer\n",
    "-hidden layers: you have to design these.\n",
    "-an output layer with 10 neurons corresponding to our 10 classes of digits, from 0 to 9."
   ]
  },
  {
   "cell_type": "code",
   "execution_count": null,
   "id": "e456e292",
   "metadata": {},
   "outputs": [],
   "source": [
    "from sklearn.neural_network import MLPClassifier\n",
    "#TODO"
   ]
  },
  {
   "cell_type": "markdown",
   "id": "7f6ca78b",
   "metadata": {},
   "source": [
    "fit the designed dataset:"
   ]
  },
  {
   "cell_type": "code",
   "execution_count": null,
   "id": "5e846e0f",
   "metadata": {},
   "outputs": [],
   "source": [
    "#TODO"
   ]
  },
  {
   "cell_type": "markdown",
   "id": "bf4bdb7b",
   "metadata": {},
   "source": [
    "### Q3. Model statistics (5)\n",
    "Here we want to see how good our model is! for this, we try to calculate accuracy, precision, recall and ... \\\n",
    "First try to predict results of the test set, and calculate the accuracy using the predicted labels with given groundtruth labels:"
   ]
  },
  {
   "cell_type": "code",
   "execution_count": null,
   "id": "38af7da1",
   "metadata": {},
   "outputs": [],
   "source": [
    "#TODO"
   ]
  },
  {
   "cell_type": "markdown",
   "id": "e81a72b2",
   "metadata": {},
   "source": [
    "To see more details of the result, plot confusion matrix:"
   ]
  },
  {
   "cell_type": "code",
   "execution_count": null,
   "id": "4ef7bb57",
   "metadata": {},
   "outputs": [],
   "source": [
    "#TODO"
   ]
  },
  {
   "cell_type": "markdown",
   "id": "abda946e",
   "metadata": {},
   "source": [
    "# Using more complex dataset (60)\n",
    "MNIST is a dataset of handwritten digits, from 0 to 9, created by LeCun. this dataset consists of 60000 train images and 10000 test images with 28*28 resolution. \\\n",
    "run the cell below to download the dataset."
   ]
  },
  {
   "cell_type": "code",
   "execution_count": 7,
   "id": "2ee9d509",
   "metadata": {},
   "outputs": [],
   "source": [
    "from sklearn.datasets import fetch_openml\n",
    "X, y = fetch_openml('mnist_784', version=1, return_X_y=True)"
   ]
  },
  {
   "cell_type": "markdown",
   "id": "c5c6ac5c",
   "metadata": {},
   "source": [
    "## Q1. Split train and test (5)\n",
    "Split the train and test sets; remember we have 70000 images, in which 60000 of them are for training and 10000 of them are testset.\n",
    "Why we don't use whole dataset as training set?"
   ]
  },
  {
   "cell_type": "code",
   "execution_count": 5,
   "id": "1af59e45",
   "metadata": {},
   "outputs": [],
   "source": [
    "#TODO"
   ]
  },
  {
   "cell_type": "markdown",
   "id": "a5cb5a1c",
   "metadata": {},
   "source": [
    "## Q2. Design The Neural network (35)\n",
    "Split the train and test sets; remember we have 70000 images, in which 60000 of them are for training and 10000 of them are testset.\n",
    "try to design a neural network with not more than 2 hidden layers. you should reach higher accurecies with simpler networks. "
   ]
  },
  {
   "cell_type": "code",
   "execution_count": null,
   "id": "d830bce8",
   "metadata": {},
   "outputs": [],
   "source": [
    "#TODO"
   ]
  },
  {
   "cell_type": "markdown",
   "id": "67d9f701",
   "metadata": {},
   "source": [
    "#### Note: Answer this part if your loss is abnormal:\n",
    "Why do you think loss is abnormal and what solution do you suggest? \\\n",
    "Print pixel values of an image from dataset; what is the max and min of these values? Try normalizing the data (pixel values) by mapping them to [0,1] range.\n"
   ]
  },
  {
   "cell_type": "code",
   "execution_count": null,
   "id": "2ef1c702",
   "metadata": {},
   "outputs": [],
   "source": [
    "#TODO"
   ]
  },
  {
   "cell_type": "markdown",
   "id": "af222b35",
   "metadata": {},
   "source": [
    "## Q3. Accuracy (5)\n",
    "Print train and test accuracy. According to these results, how can we conclude the model has overfitted or not?"
   ]
  },
  {
   "cell_type": "code",
   "execution_count": null,
   "id": "ed2078bf",
   "metadata": {},
   "outputs": [],
   "source": [
    "#TODO"
   ]
  },
  {
   "cell_type": "markdown",
   "id": "db67a6ef",
   "metadata": {},
   "source": [
    "Plot the confusion matrix:"
   ]
  },
  {
   "cell_type": "code",
   "execution_count": 6,
   "id": "a7e06d76",
   "metadata": {},
   "outputs": [],
   "source": [
    "#TODO"
   ]
  },
  {
   "cell_type": "markdown",
   "id": "467a3f39",
   "metadata": {},
   "source": [
    "### Q4. Plotting the MLP coefficeints (15pts)\n",
    "Here, we try to plot coefficients of the neural network."
   ]
  },
  {
   "cell_type": "code",
   "execution_count": null,
   "id": "3c71ca03",
   "metadata": {},
   "outputs": [],
   "source": [
    "#TODO"
   ]
  },
  {
   "cell_type": "markdown",
   "id": "8006c156",
   "metadata": {},
   "source": [
    "# Optional: Deep neural networks! (optional: 20)\n",
    "In recent years, deep neural networks has attracted so much attention because of their great results and ease of development.  Deep learning is a class of machine learning algorithms that uses multiple layers to progressively extract higher-level features from the raw input. For example, in image processing, lower layers may identify edges, while higher layers may identify the concepts relevant to a human such as digits or letters or faces. \\\n",
    "There are two important libraries which we use to develop neural network: 1.Tensorflow  2.Pytorch \\\n",
    "Here we want to use keras (an interface for tensorflow) because of its simlpicity."
   ]
  },
  {
   "cell_type": "markdown",
   "id": "73b55b8b",
   "metadata": {},
   "source": [
    "In this part, we don't want to guide you and tell the steps of designing a neural network, because you've learned it already in the above parts! we just explain the problem: \n",
    "Develop a MLP to classify Fashion MNIST with more than 80 percent accuracy!\n"
   ]
  },
  {
   "cell_type": "code",
   "execution_count": null,
   "id": "9e5b6f14",
   "metadata": {},
   "outputs": [],
   "source": [
    "#TODO"
   ]
  }
 ],
 "metadata": {
  "kernelspec": {
   "display_name": "Python 3 (ipykernel)",
   "language": "python",
   "name": "python3"
  },
  "language_info": {
   "codemirror_mode": {
    "name": "ipython",
    "version": 3
   },
   "file_extension": ".py",
   "mimetype": "text/x-python",
   "name": "python",
   "nbconvert_exporter": "python",
   "pygments_lexer": "ipython3",
   "version": "3.7.9"
  }
 },
 "nbformat": 4,
 "nbformat_minor": 5
}
